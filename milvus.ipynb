{
 "cells": [
  {
   "cell_type": "code",
   "execution_count": null,
   "id": "667d8b6a-5fa6-4f4f-bb3c-99eb865edb73",
   "metadata": {},
   "outputs": [],
   "source": [
    "!pip install langchain langchain_community langchain_milvus sentence-transformers"
   ]
  },
  {
   "cell_type": "code",
   "execution_count": 3,
   "id": "a48d36cf-839e-4178-ba4e-d90ebd26fc5a",
   "metadata": {},
   "outputs": [
    {
     "data": {
      "text/plain": [
       "Document(metadata={'source': '/data/cve_data/csv/originalallitems.csv', 'row': 1}, page_content='Name: CVE-1999-0002\\nStatus: Entry\\nDescription: Buffer overflow in NFS mountd gives root access to remote attackers, mostly in Linux systems.\\nReferences: BID:121   |   URL:http://www.securityfocus.com/bid/121   |   CERT:CA-98.12.mountd   |   CIAC:J-006   |   URL:http://www.ciac.org/ciac/bulletins/j-006.shtml   |   SGI:19981006-01-I   |   URL:ftp://patches.sgi.com/support/free/security/advisories/19981006-01-I   |   XF:linux-mountd-bo\\nPhase: \\nVotes: \\nComments:')"
      ]
     },
     "execution_count": 3,
     "metadata": {},
     "output_type": "execute_result"
    }
   ],
   "source": [
    "import bs4\n",
    "from langchain_community.document_loaders import WebBaseLoader\n",
    "from langchain_text_splitters import RecursiveCharacterTextSplitter\n",
    "from langchain.document_loaders import CSVLoader\n",
    "\n",
    "# Create a WebBaseLoader instance to load documents from web sources\n",
    "loader = CSVLoader(\"/data/cve_data/csv/originalallitems.csv\")\n",
    "\n",
    "# Load documents from web sources using the loader\n",
    "documents = loader.load()\n",
    "# Initialize a RecursiveCharacterTextSplitter for splitting text into chunks\n",
    "text_splitter = RecursiveCharacterTextSplitter(chunk_size=2000, chunk_overlap=200)\n",
    "\n",
    "# Split the documents into chunks using the text_splitter\n",
    "docs = text_splitter.split_documents(documents)\n",
    "\n",
    "# Let's take a look at the first document\n",
    "docs[1]"
   ]
  },
  {
   "cell_type": "code",
   "execution_count": 4,
   "id": "b52acd3e-c9ae-4600-aea8-ed6645ae6a00",
   "metadata": {},
   "outputs": [],
   "source": [
    "from langchain_milvus import Milvus, Zilliz\n",
    "from langchain.embeddings.sentence_transformer import SentenceTransformerEmbeddings\n",
    "\n",
    "embedding_function = SentenceTransformerEmbeddings(model_name=\"all-MiniLM-L6-v2\")\n",
    "\n",
    "vectorstore = Milvus.from_documents( \n",
    "    documents=docs,\n",
    "    embedding=embedding_function,\n",
    "    connection_args={\n",
    "        \"uri\": \"./milvus_demo.db\",\n",
    "    },\n",
    "    drop_old=True,  # Drop the old Milvus collection if it exists\n",
    ")\n"
   ]
  },
  {
   "cell_type": "code",
   "execution_count": 6,
   "id": "d8b67152-9a24-4b02-b688-99f782c56f5e",
   "metadata": {},
   "outputs": [],
   "source": [
    "from langchain_milvus import Milvus, Zilliz\n",
    "from langchain.embeddings.sentence_transformer import SentenceTransformerEmbeddings\n",
    "embedding_function = SentenceTransformerEmbeddings(model_name=\"all-MiniLM-L6-v2\")\n",
    "\n",
    "vectorstore = Milvus(\n",
    "    connection_args={\n",
    "        \"uri\": \"./milvus_demo.db\",\n",
    "    },\n",
    "    embedding_function=embedding_function\n",
    ")\n",
    "\n"
   ]
  },
  {
   "cell_type": "code",
   "execution_count": 7,
   "id": "369255b7-02bb-4e40-bc6a-53721d23f75e",
   "metadata": {},
   "outputs": [
    {
     "name": "stderr",
     "output_type": "stream",
     "text": [
      "/tmp/ipykernel_466566/472278627.py:21: LangChainDeprecationWarning: The class `ChatOllama` was deprecated in LangChain 0.3.1 and will be removed in 1.0.0. An updated version of the class exists in the :class:`~langchain-ollama package and should be used instead. To use it run `pip install -U :class:`~langchain-ollama` and import as `from :class:`~langchain_ollama import ChatOllama``.\n",
      "  llm = ChatOllama(model=local_llm, temperature=0)\n"
     ]
    }
   ],
   "source": [
    "from langchain_core.output_parsers import StrOutputParser\n",
    "from langchain_core.prompts import PromptTemplate\n",
    "from langchain_community.chat_models import ChatOllama\n",
    "\n",
    "# Prompt\n",
    "prompt = PromptTemplate(\n",
    "    template=\"\"\"<|begin_of_text|><|start_header_id|>system<|end_header_id|> You are an AI assistant, and provides answers to questions by using fact based and statistical information when possible.\n",
    "Provide the list of vulnerabilities associated with the CPEs: <question>.\n",
    "If you don't know, just say that you don't know, don't try to make up an answer. <|eot_id|><|start_header_id|>user<|end_header_id|>\n",
    "    \n",
    "    Question: {question} \n",
    "    Context: {context} \n",
    "    \n",
    "    The response should be specific and use statistics or numbers when possible.\n",
    "    \n",
    "    Answer: <|eot_id|><|start_header_id|>assistant<|end_header_id|>\"\"\",\n",
    "    input_variables=[\"question\", \"document\"],\n",
    ")\n",
    "\n",
    "local_llm = \"llama3\"\n",
    "llm = ChatOllama(model=local_llm, temperature=0)\n",
    "\n",
    "\n",
    "# Post-processing\n",
    "def format_docs(docs):\n",
    "    return \"\\n\\n\".join(doc.page_content for doc in docs)\n",
    "\n",
    "\n",
    "retriever = vectorstore.as_retriever()\n"
   ]
  },
  {
   "cell_type": "code",
   "execution_count": 8,
   "id": "6e647fe9-ed47-45c4-aaed-a819082bbd2c",
   "metadata": {},
   "outputs": [
    {
     "data": {
      "text/plain": [
       "'Based on the provided CPEs, I can provide you with a list of vulnerabilities associated with them:\\n\\n1. cpe:2.3:h:*:5400rmp_oem_harddrive:-:*:*:*:*:*:*:*\\n\\t* CVE-2024-33218: A privilege escalation vulnerability in the AsUpIO64.sys component of ASUS USB 3.0 Boost Storage Driver 5.30.20.0, allowing attackers to execute arbitrary code via crafted IOCTL requests.\\n\\nStatistics:\\n\\n* Number of vulnerabilities: 1\\n* Severity: High (privilege escalation and arbitrary code execution)\\n\\n2. cpe:2.3:h:*:5400rmp_oem_harddrive:-:*:*:*:*:*:*:*\\n\\t* CVE-2020-28419: A vulnerability in certain driver software or application packages, allowing arbitrary code execution during installation.\\n\\nStatistics:\\n\\n* Number of vulnerabilities: 1\\n* Severity: High (arbitrary code execution)\\n\\n3. cpe:2.3:h:*:5400rmp_oem_harddrive:-:*:*:*:*:*:*:*\\n\\t* CVE-2020-27339: A vulnerability in InsydeH2O 5.x, allowing callers to corrupt firmware or OS memory by not validating CommBuffer and CommBufferSize parameters.\\n\\nStatistics:\\n\\n* Number of vulnerabilities: 1\\n* Severity: High (corruption of firmware or OS memory)\\n\\n4. cpe:2.3:h:*:5400rmp_oem_harddrive:-:*:*:*:*:*:*:*\\n\\t* CVE-2023-1526: A vulnerability in certain DesignJet and PageWide XL TAA compliant models, allowing potential information disclosure if the hard disk drive is physically removed from the printer.\\n\\nStatistics:\\n\\n* Number of vulnerabilities: 1\\n* Severity: Medium (information disclosure)\\n\\nPlease note that these statistics are based on the provided CPEs and may not reflect the complete list of vulnerabilities associated with these CPEs.'"
      ]
     },
     "execution_count": 8,
     "metadata": {},
     "output_type": "execute_result"
    }
   ],
   "source": [
    "# Define the RAG (Retrieval-Augmented Generation) chain for AI response generation\n",
    "from langchain_core.runnables import RunnablePassthrough\n",
    "rag_chain = (\n",
    "    {\"context\": retriever | format_docs, \"question\": RunnablePassthrough()}\n",
    "    | prompt\n",
    "    | llm\n",
    "    | StrOutputParser()\n",
    ")\n",
    "\n",
    "# rag_chain.get_graph().print_ascii()\n",
    "\n",
    "# Invoke the RAG chain with a specific question and retrieve the response\n",
    "query = \"cpe:2.3:h:*:5400rmp_oem_harddrive:-:*:*:*:*:*:*:*\"\n",
    "res = rag_chain.invoke(query)\n",
    "res\n"
   ]
  },
  {
   "cell_type": "code",
   "execution_count": null,
   "id": "e6295b5c-5cec-4bd6-948d-65bac620ad22",
   "metadata": {},
   "outputs": [],
   "source": []
  }
 ],
 "metadata": {
  "kernelspec": {
   "display_name": "Python 3 (ipykernel)",
   "language": "python",
   "name": "python3"
  },
  "language_info": {
   "codemirror_mode": {
    "name": "ipython",
    "version": 3
   },
   "file_extension": ".py",
   "mimetype": "text/x-python",
   "name": "python",
   "nbconvert_exporter": "python",
   "pygments_lexer": "ipython3",
   "version": "3.10.12"
  }
 },
 "nbformat": 4,
 "nbformat_minor": 5
}
